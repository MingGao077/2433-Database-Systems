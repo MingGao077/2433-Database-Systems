{
 "cells": [
  {
   "cell_type": "code",
   "execution_count": 27,
   "metadata": {},
   "outputs": [],
   "source": [
    "import requests"
   ]
  },
  {
   "cell_type": "code",
   "execution_count": 28,
   "metadata": {},
   "outputs": [],
   "source": [
    "url = 'http://127.0.0.1:7777/run_data_driven_model'"
   ]
  },
  {
   "cell_type": "code",
   "execution_count": 29,
   "metadata": {},
   "outputs": [
    {
     "name": "stdout",
     "output_type": "stream",
     "text": [
      "Status Code: 200\n",
      "Response1: {'message': 'Data added to Training Set'}\n"
     ]
    }
   ],
   "source": [
    "test1 = {\n",
    "    'voice_input': \"id is 351764, Gender is Male, Age is 71, Driving_License is 1, Region_Code is 46, Previously_Insured is 1, Vehicle_Age is one to two years, Vehicle_Damage is No, Annual_Premium is 2630, Policy_Sales_Channel is 30, Vintage is 32, Response is 0\",\n",
    "    'command': 'add' \n",
    "}\n",
    "\n",
    "response1 = requests.post(url, json=test1)\n",
    "print('Status Code:', response1.status_code)\n",
    "print('Response1:', response1.json())"
   ]
  },
  {
   "cell_type": "code",
   "execution_count": 30,
   "metadata": {},
   "outputs": [
    {
     "name": "stdout",
     "output_type": "stream",
     "text": [
      "Status Code: 200\n",
      "Response2: {'AUC on the test set is': 0.7187311658332107, 'Accuracy on the test set is': 0.7855212405867072, 'Prediction of this new data is': 'Customer is not interested'}\n"
     ]
    }
   ],
   "source": [
    "test2 = {\n",
    "    'voice_input': \"id is 351764, Gender is Male, Age is 71, Driving_License is 1, Region_Code is 46, Previously_Insured is 1, Vehicle_Age is one to two years, Vehicle_Damage is No, Annual_Premium is 2630, Policy_Sales_Channel is 30, Vintage is 32\",\n",
    "    'command': 'predict' \n",
    "}\n",
    "\n",
    "response2 = requests.post(url, json=test2)\n",
    "print('Status Code:', response2.status_code)\n",
    "print('Response2:', response2.json())"
   ]
  },
  {
   "cell_type": "code",
   "execution_count": null,
   "metadata": {},
   "outputs": [],
   "source": []
  }
 ],
 "metadata": {
  "kernelspec": {
   "display_name": "Python 3",
   "language": "python",
   "name": "python3"
  },
  "language_info": {
   "codemirror_mode": {
    "name": "ipython",
    "version": 3
   },
   "file_extension": ".py",
   "mimetype": "text/x-python",
   "name": "python",
   "nbconvert_exporter": "python",
   "pygments_lexer": "ipython3",
   "version": "3.7.3"
  }
 },
 "nbformat": 4,
 "nbformat_minor": 2
}
